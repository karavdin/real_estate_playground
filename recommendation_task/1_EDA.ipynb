{
 "cells": [
  {
   "cell_type": "markdown",
   "id": "7810d918-ad54-42ed-af5f-d0f4057afa77",
   "metadata": {},
   "source": [
    "# Recommendation system based on reviews"
   ]
  },
  {
   "cell_type": "markdown",
   "id": "2ee2327a-cac3-43e9-b553-6b7a6963703e",
   "metadata": {},
   "source": [
    "## Context:\n",
    "You, as a Data Scientist, have been asked to build a recommendation service for users on a vacation rental platform based on their previous experience.\n",
    "## Task:\n",
    "Your task would be to develop a recommendation model that could recommend returning users new properties based on their old reviews. Let’s just assume that our platform has only vacation houses in London and we would like to recommend new properties only to our loyal returning users.\n",
    "## Data:\n",
    "As an input you get the London Airbnb Dataset where you can find user reviews and general information about listings.\n",
    "\n",
    "## Deliverables / outcome:\n",
    "Upon completion of your analysis, your presentation should encompass the following:\n",
    "\n",
    "• insights and challenges that you’ve faced during the discovery process,\n",
    "\n",
    "• results of the sentiment analysis, how you extracted signals for the recommendation model\n",
    "\n",
    "• recommendation model itself: what approach and algorithm was selected, why and how it can be evaluated.\n"
   ]
  },
  {
   "cell_type": "code",
   "execution_count": 1,
   "id": "a61ca00e-be6a-467b-acc5-4c6386299c5f",
   "metadata": {},
   "outputs": [],
   "source": [
    "import pandas as pd\n",
    "import geopandas\n",
    "import matplotlib.pyplot as plt\n",
    "import seaborn as sns\n",
    "%matplotlib inline "
   ]
  },
  {
   "cell_type": "markdown",
   "id": "731e3871-0f17-4177-a2ba-7407b6f4c513",
   "metadata": {},
   "source": [
    "# Read data"
   ]
  },
  {
   "cell_type": "code",
   "execution_count": 2,
   "id": "89a39705-cc9e-470c-af7c-f5bf579b757d",
   "metadata": {},
   "outputs": [
    {
     "data": {
      "text/html": [
       "<div>\n",
       "<style scoped>\n",
       "    .dataframe tbody tr th:only-of-type {\n",
       "        vertical-align: middle;\n",
       "    }\n",
       "\n",
       "    .dataframe tbody tr th {\n",
       "        vertical-align: top;\n",
       "    }\n",
       "\n",
       "    .dataframe thead th {\n",
       "        text-align: right;\n",
       "    }\n",
       "</style>\n",
       "<table border=\"1\" class=\"dataframe\">\n",
       "  <thead>\n",
       "    <tr style=\"text-align: right;\">\n",
       "      <th></th>\n",
       "      <th>listing_id</th>\n",
       "      <th>date</th>\n",
       "      <th>available</th>\n",
       "      <th>price</th>\n",
       "      <th>adjusted_price</th>\n",
       "      <th>minimum_nights</th>\n",
       "      <th>maximum_nights</th>\n",
       "    </tr>\n",
       "  </thead>\n",
       "  <tbody>\n",
       "    <tr>\n",
       "      <th>6197445</th>\n",
       "      <td>12305010</td>\n",
       "      <td>2020-10-03</td>\n",
       "      <td>f</td>\n",
       "      <td>$280.00</td>\n",
       "      <td>$280.00</td>\n",
       "      <td>3.0</td>\n",
       "      <td>1125.0</td>\n",
       "    </tr>\n",
       "    <tr>\n",
       "      <th>13908626</th>\n",
       "      <td>21844951</td>\n",
       "      <td>2020-10-25</td>\n",
       "      <td>f</td>\n",
       "      <td>$90.00</td>\n",
       "      <td>$90.00</td>\n",
       "      <td>3.0</td>\n",
       "      <td>1125.0</td>\n",
       "    </tr>\n",
       "    <tr>\n",
       "      <th>8807084</th>\n",
       "      <td>16145289</td>\n",
       "      <td>2020-09-28</td>\n",
       "      <td>f</td>\n",
       "      <td>$28.00</td>\n",
       "      <td>$28.00</td>\n",
       "      <td>1.0</td>\n",
       "      <td>1125.0</td>\n",
       "    </tr>\n",
       "  </tbody>\n",
       "</table>\n",
       "</div>"
      ],
      "text/plain": [
       "          listing_id        date available    price adjusted_price  \\\n",
       "6197445     12305010  2020-10-03         f  $280.00        $280.00   \n",
       "13908626    21844951  2020-10-25         f   $90.00         $90.00   \n",
       "8807084     16145289  2020-09-28         f   $28.00         $28.00   \n",
       "\n",
       "          minimum_nights  maximum_nights  \n",
       "6197445              3.0          1125.0  \n",
       "13908626             3.0          1125.0  \n",
       "8807084              1.0          1125.0  "
      ]
     },
     "execution_count": 2,
     "metadata": {},
     "output_type": "execute_result"
    }
   ],
   "source": [
    "df_cal= pd.read_csv('recommendations/calendar.csv')\n",
    "df_cal.sample(3)"
   ]
  },
  {
   "cell_type": "code",
   "execution_count": 3,
   "id": "328df43e-3c62-415d-bbe7-458e0fb9ccc5",
   "metadata": {},
   "outputs": [
    {
     "data": {
      "text/html": [
       "<div>\n",
       "<style scoped>\n",
       "    .dataframe tbody tr th:only-of-type {\n",
       "        vertical-align: middle;\n",
       "    }\n",
       "\n",
       "    .dataframe tbody tr th {\n",
       "        vertical-align: top;\n",
       "    }\n",
       "\n",
       "    .dataframe thead th {\n",
       "        text-align: right;\n",
       "    }\n",
       "</style>\n",
       "<table border=\"1\" class=\"dataframe\">\n",
       "  <thead>\n",
       "    <tr style=\"text-align: right;\">\n",
       "      <th></th>\n",
       "      <th>listing_id</th>\n",
       "      <th>id</th>\n",
       "      <th>date</th>\n",
       "      <th>reviewer_id</th>\n",
       "      <th>reviewer_name</th>\n",
       "      <th>comments</th>\n",
       "    </tr>\n",
       "  </thead>\n",
       "  <tbody>\n",
       "    <tr>\n",
       "      <th>508059</th>\n",
       "      <td>9461266</td>\n",
       "      <td>114810187</td>\n",
       "      <td>2016-11-20</td>\n",
       "      <td>53343897</td>\n",
       "      <td>Steffi</td>\n",
       "      <td>Elenita home is vey lovely with a private bedr...</td>\n",
       "    </tr>\n",
       "    <tr>\n",
       "      <th>1275436</th>\n",
       "      <td>27568238</td>\n",
       "      <td>481616728</td>\n",
       "      <td>2019-07-05</td>\n",
       "      <td>120991170</td>\n",
       "      <td>Vinay</td>\n",
       "      <td>Nice room in a friendly house. Very welcoming ...</td>\n",
       "    </tr>\n",
       "    <tr>\n",
       "      <th>1141919</th>\n",
       "      <td>23288079</td>\n",
       "      <td>456716505</td>\n",
       "      <td>2019-05-22</td>\n",
       "      <td>256027972</td>\n",
       "      <td>Karen</td>\n",
       "      <td>We stayed in the dream room which has its own ...</td>\n",
       "    </tr>\n",
       "  </tbody>\n",
       "</table>\n",
       "</div>"
      ],
      "text/plain": [
       "         listing_id         id        date  reviewer_id reviewer_name  \\\n",
       "508059      9461266  114810187  2016-11-20     53343897        Steffi   \n",
       "1275436    27568238  481616728  2019-07-05    120991170         Vinay   \n",
       "1141919    23288079  456716505  2019-05-22    256027972         Karen   \n",
       "\n",
       "                                                  comments  \n",
       "508059   Elenita home is vey lovely with a private bedr...  \n",
       "1275436  Nice room in a friendly house. Very welcoming ...  \n",
       "1141919  We stayed in the dream room which has its own ...  "
      ]
     },
     "execution_count": 3,
     "metadata": {},
     "output_type": "execute_result"
    }
   ],
   "source": [
    "df_reviews= pd.read_csv('recommendations/reviews.csv')\n",
    "df_reviews.sample(3)"
   ]
  },
  {
   "cell_type": "code",
   "execution_count": 35,
   "id": "7d049142-dc48-40b6-9f3b-4a079388a064",
   "metadata": {},
   "outputs": [
    {
     "data": {
      "text/plain": [
       "array(['The location is a 5-minute walk to the borough station, which is very convenient.\\nThere are also 3 bedrooms, which are very good value for money.\\nThe response from the landlord was also quick and very helpful'],\n",
       "      dtype=object)"
      ]
     },
     "execution_count": 35,
     "metadata": {},
     "output_type": "execute_result"
    }
   ],
   "source": [
    "df_reviews[df_reviews['reviewer_id']==1621287]['comments'].values"
   ]
  },
  {
   "cell_type": "code",
   "execution_count": 36,
   "id": "4d3f5c18-66bf-4270-9610-356e8a3d7028",
   "metadata": {},
   "outputs": [
    {
     "data": {
      "text/plain": [
       "array(['I had a great stay!',\n",
       "       'Great location near Wembley and frequent trains to the city'],\n",
       "      dtype=object)"
      ]
     },
     "execution_count": 36,
     "metadata": {},
     "output_type": "execute_result"
    }
   ],
   "source": [
    "df_reviews[df_reviews['listing_id']==31325432]['comments'].values"
   ]
  },
  {
   "cell_type": "code",
   "execution_count": 37,
   "id": "d62f8e88-8e78-48af-b01d-6092df23a60e",
   "metadata": {},
   "outputs": [
    {
     "data": {
      "text/plain": [
       "array(['Great host \\nGood communication and great place to stay',\n",
       "       'Great stay, very close to Gunnersbury. Large, comfortable beds and very clean. Ricardo was a great host.'],\n",
       "      dtype=object)"
      ]
     },
     "execution_count": 37,
     "metadata": {},
     "output_type": "execute_result"
    }
   ],
   "source": [
    "df_reviews[df_reviews['listing_id']==20098244]['comments'].values"
   ]
  },
  {
   "cell_type": "code",
   "execution_count": 38,
   "id": "8d6f7980-fb60-485f-acb9-7bb442db1d7b",
   "metadata": {},
   "outputs": [
    {
     "data": {
      "text/plain": [
       "array(['You can expect kindness, and a cute ambient',\n",
       "       'Great place 15 minutes walk from tube. Quiet at night and Samantha is great crack',\n",
       "       'Sam is very hospitable.',\n",
       "       'Samantha was a very gracious host who went out of her way to be helpful. I highly recommend her accommodation!'],\n",
       "      dtype=object)"
      ]
     },
     "execution_count": 38,
     "metadata": {},
     "output_type": "execute_result"
    }
   ],
   "source": [
    "df_reviews[df_reviews['listing_id']==35024701]['comments'].values"
   ]
  },
  {
   "cell_type": "code",
   "execution_count": 4,
   "id": "fda34b43-d5f6-4773-9f71-b3560357f470",
   "metadata": {},
   "outputs": [
    {
     "data": {
      "text/html": [
       "<div>\n",
       "<style scoped>\n",
       "    .dataframe tbody tr th:only-of-type {\n",
       "        vertical-align: middle;\n",
       "    }\n",
       "\n",
       "    .dataframe tbody tr th {\n",
       "        vertical-align: top;\n",
       "    }\n",
       "\n",
       "    .dataframe thead th {\n",
       "        text-align: right;\n",
       "    }\n",
       "</style>\n",
       "<table border=\"1\" class=\"dataframe\">\n",
       "  <thead>\n",
       "    <tr style=\"text-align: right;\">\n",
       "      <th></th>\n",
       "      <th>listing_id</th>\n",
       "      <th>date</th>\n",
       "    </tr>\n",
       "  </thead>\n",
       "  <tbody>\n",
       "    <tr>\n",
       "      <th>842126</th>\n",
       "      <td>17325472</td>\n",
       "      <td>2017-04-21</td>\n",
       "    </tr>\n",
       "    <tr>\n",
       "      <th>245852</th>\n",
       "      <td>3294255</td>\n",
       "      <td>2017-10-08</td>\n",
       "    </tr>\n",
       "    <tr>\n",
       "      <th>88252</th>\n",
       "      <td>604185</td>\n",
       "      <td>2014-05-15</td>\n",
       "    </tr>\n",
       "  </tbody>\n",
       "</table>\n",
       "</div>"
      ],
      "text/plain": [
       "        listing_id        date\n",
       "842126    17325472  2017-04-21\n",
       "245852     3294255  2017-10-08\n",
       "88252       604185  2014-05-15"
      ]
     },
     "execution_count": 4,
     "metadata": {},
     "output_type": "execute_result"
    }
   ],
   "source": [
    "df_reviews_summary= pd.read_csv('recommendations/reviews_summary.csv')\n",
    "df_reviews_summary.sample(3)"
   ]
  },
  {
   "cell_type": "code",
   "execution_count": 5,
   "id": "f9d0388b-abd3-41ac-b049-edf5b19e6178",
   "metadata": {},
   "outputs": [],
   "source": [
    "del df_reviews_summary #not usefull"
   ]
  },
  {
   "cell_type": "code",
   "execution_count": 6,
   "id": "832f3a57-7601-48c1-ae77-29aa46c92c33",
   "metadata": {},
   "outputs": [
    {
     "name": "stderr",
     "output_type": "stream",
     "text": [
      "/var/folders/m3/g488472j5m107y4lcmq9gs940000gr/T/ipykernel_53674/1334777753.py:1: DtypeWarning: Columns (61,62,94,95) have mixed types. Specify dtype option on import or set low_memory=False.\n",
      "  df_listings= pd.read_csv('recommendations/listings.csv')\n"
     ]
    },
    {
     "data": {
      "text/html": [
       "<div>\n",
       "<style scoped>\n",
       "    .dataframe tbody tr th:only-of-type {\n",
       "        vertical-align: middle;\n",
       "    }\n",
       "\n",
       "    .dataframe tbody tr th {\n",
       "        vertical-align: top;\n",
       "    }\n",
       "\n",
       "    .dataframe thead th {\n",
       "        text-align: right;\n",
       "    }\n",
       "</style>\n",
       "<table border=\"1\" class=\"dataframe\">\n",
       "  <thead>\n",
       "    <tr style=\"text-align: right;\">\n",
       "      <th></th>\n",
       "      <th>id</th>\n",
       "      <th>listing_url</th>\n",
       "      <th>scrape_id</th>\n",
       "      <th>last_scraped</th>\n",
       "      <th>name</th>\n",
       "      <th>summary</th>\n",
       "      <th>space</th>\n",
       "      <th>description</th>\n",
       "      <th>experiences_offered</th>\n",
       "      <th>neighborhood_overview</th>\n",
       "      <th>...</th>\n",
       "      <th>instant_bookable</th>\n",
       "      <th>is_business_travel_ready</th>\n",
       "      <th>cancellation_policy</th>\n",
       "      <th>require_guest_profile_picture</th>\n",
       "      <th>require_guest_phone_verification</th>\n",
       "      <th>calculated_host_listings_count</th>\n",
       "      <th>calculated_host_listings_count_entire_homes</th>\n",
       "      <th>calculated_host_listings_count_private_rooms</th>\n",
       "      <th>calculated_host_listings_count_shared_rooms</th>\n",
       "      <th>reviews_per_month</th>\n",
       "    </tr>\n",
       "  </thead>\n",
       "  <tbody>\n",
       "    <tr>\n",
       "      <th>65025</th>\n",
       "      <td>33993034</td>\n",
       "      <td>https://www.airbnb.com/rooms/33993034</td>\n",
       "      <td>20191105115249</td>\n",
       "      <td>2019-11-06</td>\n",
       "      <td>2 mins. to RAILWAY STATION, close to RUGBY sta...</td>\n",
       "      <td>NaN</td>\n",
       "      <td>NaN</td>\n",
       "      <td>NaN</td>\n",
       "      <td>none</td>\n",
       "      <td>NaN</td>\n",
       "      <td>...</td>\n",
       "      <td>f</td>\n",
       "      <td>f</td>\n",
       "      <td>flexible</td>\n",
       "      <td>f</td>\n",
       "      <td>f</td>\n",
       "      <td>1</td>\n",
       "      <td>0</td>\n",
       "      <td>1</td>\n",
       "      <td>0</td>\n",
       "      <td>NaN</td>\n",
       "    </tr>\n",
       "    <tr>\n",
       "      <th>14609</th>\n",
       "      <td>10469392</td>\n",
       "      <td>https://www.airbnb.com/rooms/10469392</td>\n",
       "      <td>20191105115249</td>\n",
       "      <td>2019-11-05</td>\n",
       "      <td>Lovely 3 bed House Perfect Location</td>\n",
       "      <td>Completely modernised house with all appliance...</td>\n",
       "      <td>Modern stylish refurb finished to a high stand...</td>\n",
       "      <td>Completely modernised house with all appliance...</td>\n",
       "      <td>none</td>\n",
       "      <td>Located on the beautiful quiet, green  and lea...</td>\n",
       "      <td>...</td>\n",
       "      <td>f</td>\n",
       "      <td>f</td>\n",
       "      <td>strict_14_with_grace_period</td>\n",
       "      <td>f</td>\n",
       "      <td>f</td>\n",
       "      <td>3</td>\n",
       "      <td>1</td>\n",
       "      <td>2</td>\n",
       "      <td>0</td>\n",
       "      <td>1.39</td>\n",
       "    </tr>\n",
       "    <tr>\n",
       "      <th>1188</th>\n",
       "      <td>590443</td>\n",
       "      <td>https://www.airbnb.com/rooms/590443</td>\n",
       "      <td>20191105115249</td>\n",
       "      <td>2019-11-06</td>\n",
       "      <td>ILFORD - 2 DR (1 private bathr + 1 en-suite ba...</td>\n",
       "      <td>Modern entire flat. Parking space (undergound)...</td>\n",
       "      <td>Luxury 2 double bedrooms. Private bathroom plu...</td>\n",
       "      <td>Modern entire flat. Parking space (undergound)...</td>\n",
       "      <td>none</td>\n",
       "      <td>- All you need is within 5-10 minutes walk (su...</td>\n",
       "      <td>...</td>\n",
       "      <td>f</td>\n",
       "      <td>f</td>\n",
       "      <td>strict_14_with_grace_period</td>\n",
       "      <td>t</td>\n",
       "      <td>t</td>\n",
       "      <td>1</td>\n",
       "      <td>1</td>\n",
       "      <td>0</td>\n",
       "      <td>0</td>\n",
       "      <td>0.11</td>\n",
       "    </tr>\n",
       "  </tbody>\n",
       "</table>\n",
       "<p>3 rows × 106 columns</p>\n",
       "</div>"
      ],
      "text/plain": [
       "             id                            listing_url       scrape_id  \\\n",
       "65025  33993034  https://www.airbnb.com/rooms/33993034  20191105115249   \n",
       "14609  10469392  https://www.airbnb.com/rooms/10469392  20191105115249   \n",
       "1188     590443    https://www.airbnb.com/rooms/590443  20191105115249   \n",
       "\n",
       "      last_scraped                                               name  \\\n",
       "65025   2019-11-06  2 mins. to RAILWAY STATION, close to RUGBY sta...   \n",
       "14609   2019-11-05                Lovely 3 bed House Perfect Location   \n",
       "1188    2019-11-06  ILFORD - 2 DR (1 private bathr + 1 en-suite ba...   \n",
       "\n",
       "                                                 summary  \\\n",
       "65025                                                NaN   \n",
       "14609  Completely modernised house with all appliance...   \n",
       "1188   Modern entire flat. Parking space (undergound)...   \n",
       "\n",
       "                                                   space  \\\n",
       "65025                                                NaN   \n",
       "14609  Modern stylish refurb finished to a high stand...   \n",
       "1188   Luxury 2 double bedrooms. Private bathroom plu...   \n",
       "\n",
       "                                             description experiences_offered  \\\n",
       "65025                                                NaN                none   \n",
       "14609  Completely modernised house with all appliance...                none   \n",
       "1188   Modern entire flat. Parking space (undergound)...                none   \n",
       "\n",
       "                                   neighborhood_overview  ...  \\\n",
       "65025                                                NaN  ...   \n",
       "14609  Located on the beautiful quiet, green  and lea...  ...   \n",
       "1188   - All you need is within 5-10 minutes walk (su...  ...   \n",
       "\n",
       "      instant_bookable is_business_travel_ready          cancellation_policy  \\\n",
       "65025                f                        f                     flexible   \n",
       "14609                f                        f  strict_14_with_grace_period   \n",
       "1188                 f                        f  strict_14_with_grace_period   \n",
       "\n",
       "      require_guest_profile_picture require_guest_phone_verification  \\\n",
       "65025                             f                                f   \n",
       "14609                             f                                f   \n",
       "1188                              t                                t   \n",
       "\n",
       "       calculated_host_listings_count  \\\n",
       "65025                               1   \n",
       "14609                               3   \n",
       "1188                                1   \n",
       "\n",
       "       calculated_host_listings_count_entire_homes  \\\n",
       "65025                                            0   \n",
       "14609                                            1   \n",
       "1188                                             1   \n",
       "\n",
       "      calculated_host_listings_count_private_rooms  \\\n",
       "65025                                            1   \n",
       "14609                                            2   \n",
       "1188                                             0   \n",
       "\n",
       "       calculated_host_listings_count_shared_rooms  reviews_per_month  \n",
       "65025                                            0                NaN  \n",
       "14609                                            0               1.39  \n",
       "1188                                             0               0.11  \n",
       "\n",
       "[3 rows x 106 columns]"
      ]
     },
     "execution_count": 6,
     "metadata": {},
     "output_type": "execute_result"
    }
   ],
   "source": [
    "df_listings= pd.read_csv('recommendations/listings.csv')\n",
    "df_listings.sample(3)"
   ]
  },
  {
   "cell_type": "code",
   "execution_count": 7,
   "id": "cfc5a0f1-df02-478d-b0e1-4befce8fa6e5",
   "metadata": {},
   "outputs": [
    {
     "data": {
      "text/html": [
       "<div>\n",
       "<style scoped>\n",
       "    .dataframe tbody tr th:only-of-type {\n",
       "        vertical-align: middle;\n",
       "    }\n",
       "\n",
       "    .dataframe tbody tr th {\n",
       "        vertical-align: top;\n",
       "    }\n",
       "\n",
       "    .dataframe thead th {\n",
       "        text-align: right;\n",
       "    }\n",
       "</style>\n",
       "<table border=\"1\" class=\"dataframe\">\n",
       "  <thead>\n",
       "    <tr style=\"text-align: right;\">\n",
       "      <th></th>\n",
       "      <th>id</th>\n",
       "      <th>name</th>\n",
       "      <th>host_id</th>\n",
       "      <th>host_name</th>\n",
       "      <th>neighbourhood_group</th>\n",
       "      <th>neighbourhood</th>\n",
       "      <th>latitude</th>\n",
       "      <th>longitude</th>\n",
       "      <th>room_type</th>\n",
       "      <th>price</th>\n",
       "      <th>minimum_nights</th>\n",
       "      <th>number_of_reviews</th>\n",
       "      <th>last_review</th>\n",
       "      <th>reviews_per_month</th>\n",
       "      <th>calculated_host_listings_count</th>\n",
       "      <th>availability_365</th>\n",
       "    </tr>\n",
       "  </thead>\n",
       "  <tbody>\n",
       "    <tr>\n",
       "      <th>2816</th>\n",
       "      <td>1797398</td>\n",
       "      <td>Spacious flat in East London</td>\n",
       "      <td>6623606</td>\n",
       "      <td>Sam</td>\n",
       "      <td>NaN</td>\n",
       "      <td>Tower Hamlets</td>\n",
       "      <td>51.53278</td>\n",
       "      <td>-0.04720</td>\n",
       "      <td>Entire home/apt</td>\n",
       "      <td>69</td>\n",
       "      <td>7</td>\n",
       "      <td>9</td>\n",
       "      <td>2015-10-18</td>\n",
       "      <td>0.12</td>\n",
       "      <td>1</td>\n",
       "      <td>0</td>\n",
       "    </tr>\n",
       "    <tr>\n",
       "      <th>45354</th>\n",
       "      <td>24927982</td>\n",
       "      <td>Stunning luxury one bedroom appartment</td>\n",
       "      <td>4214976</td>\n",
       "      <td>Lynne</td>\n",
       "      <td>NaN</td>\n",
       "      <td>Haringey</td>\n",
       "      <td>51.57967</td>\n",
       "      <td>-0.13099</td>\n",
       "      <td>Entire home/apt</td>\n",
       "      <td>90</td>\n",
       "      <td>5</td>\n",
       "      <td>25</td>\n",
       "      <td>2019-09-08</td>\n",
       "      <td>1.43</td>\n",
       "      <td>2</td>\n",
       "      <td>0</td>\n",
       "    </tr>\n",
       "    <tr>\n",
       "      <th>50368</th>\n",
       "      <td>27390113</td>\n",
       "      <td>Great North London Location</td>\n",
       "      <td>11194649</td>\n",
       "      <td>Richard</td>\n",
       "      <td>NaN</td>\n",
       "      <td>Camden</td>\n",
       "      <td>51.53678</td>\n",
       "      <td>-0.14406</td>\n",
       "      <td>Entire home/apt</td>\n",
       "      <td>100</td>\n",
       "      <td>25</td>\n",
       "      <td>10</td>\n",
       "      <td>2019-01-04</td>\n",
       "      <td>0.69</td>\n",
       "      <td>1</td>\n",
       "      <td>0</td>\n",
       "    </tr>\n",
       "  </tbody>\n",
       "</table>\n",
       "</div>"
      ],
      "text/plain": [
       "             id                                    name   host_id host_name  \\\n",
       "2816    1797398            Spacious flat in East London   6623606       Sam   \n",
       "45354  24927982  Stunning luxury one bedroom appartment   4214976     Lynne   \n",
       "50368  27390113             Great North London Location  11194649   Richard   \n",
       "\n",
       "       neighbourhood_group  neighbourhood  latitude  longitude  \\\n",
       "2816                   NaN  Tower Hamlets  51.53278   -0.04720   \n",
       "45354                  NaN       Haringey  51.57967   -0.13099   \n",
       "50368                  NaN         Camden  51.53678   -0.14406   \n",
       "\n",
       "             room_type  price  minimum_nights  number_of_reviews last_review  \\\n",
       "2816   Entire home/apt     69               7                  9  2015-10-18   \n",
       "45354  Entire home/apt     90               5                 25  2019-09-08   \n",
       "50368  Entire home/apt    100              25                 10  2019-01-04   \n",
       "\n",
       "       reviews_per_month  calculated_host_listings_count  availability_365  \n",
       "2816                0.12                               1                 0  \n",
       "45354               1.43                               2                 0  \n",
       "50368               0.69                               1                 0  "
      ]
     },
     "execution_count": 7,
     "metadata": {},
     "output_type": "execute_result"
    }
   ],
   "source": [
    "df_listings_summary= pd.read_csv('recommendations/listings_summary.csv')\n",
    "df_listings_summary.sample(3)"
   ]
  },
  {
   "cell_type": "code",
   "execution_count": 8,
   "id": "5143e1f5-6941-47e6-8b3f-539f5d95ed8a",
   "metadata": {},
   "outputs": [
    {
     "data": {
      "text/html": [
       "<div>\n",
       "<style scoped>\n",
       "    .dataframe tbody tr th:only-of-type {\n",
       "        vertical-align: middle;\n",
       "    }\n",
       "\n",
       "    .dataframe tbody tr th {\n",
       "        vertical-align: top;\n",
       "    }\n",
       "\n",
       "    .dataframe thead th {\n",
       "        text-align: right;\n",
       "    }\n",
       "</style>\n",
       "<table border=\"1\" class=\"dataframe\">\n",
       "  <thead>\n",
       "    <tr style=\"text-align: right;\">\n",
       "      <th></th>\n",
       "      <th>neighbourhood_group</th>\n",
       "      <th>neighbourhood</th>\n",
       "    </tr>\n",
       "  </thead>\n",
       "  <tbody>\n",
       "    <tr>\n",
       "      <th>8</th>\n",
       "      <td>NaN</td>\n",
       "      <td>Ealing</td>\n",
       "    </tr>\n",
       "    <tr>\n",
       "      <th>16</th>\n",
       "      <td>NaN</td>\n",
       "      <td>Hillingdon</td>\n",
       "    </tr>\n",
       "    <tr>\n",
       "      <th>21</th>\n",
       "      <td>NaN</td>\n",
       "      <td>Lambeth</td>\n",
       "    </tr>\n",
       "  </tbody>\n",
       "</table>\n",
       "</div>"
      ],
      "text/plain": [
       "    neighbourhood_group neighbourhood\n",
       "8                   NaN        Ealing\n",
       "16                  NaN    Hillingdon\n",
       "21                  NaN       Lambeth"
      ]
     },
     "execution_count": 8,
     "metadata": {},
     "output_type": "execute_result"
    }
   ],
   "source": [
    "df_neighbourhoods= pd.read_csv('recommendations/neighbourhoods.csv')\n",
    "df_neighbourhoods.sample(3)"
   ]
  },
  {
   "cell_type": "code",
   "execution_count": 9,
   "id": "433be507-a019-410d-8158-7deb70980007",
   "metadata": {},
   "outputs": [
    {
     "data": {
      "text/html": [
       "<div>\n",
       "<style scoped>\n",
       "    .dataframe tbody tr th:only-of-type {\n",
       "        vertical-align: middle;\n",
       "    }\n",
       "\n",
       "    .dataframe tbody tr th {\n",
       "        vertical-align: top;\n",
       "    }\n",
       "\n",
       "    .dataframe thead th {\n",
       "        text-align: right;\n",
       "    }\n",
       "</style>\n",
       "<table border=\"1\" class=\"dataframe\">\n",
       "  <thead>\n",
       "    <tr style=\"text-align: right;\">\n",
       "      <th></th>\n",
       "      <th>neighbourhood</th>\n",
       "      <th>neighbourhood_group</th>\n",
       "      <th>geometry</th>\n",
       "    </tr>\n",
       "  </thead>\n",
       "  <tbody>\n",
       "    <tr>\n",
       "      <th>17</th>\n",
       "      <td>Greenwich</td>\n",
       "      <td>NaN</td>\n",
       "      <td>MULTIPOLYGON (((-0.02485 51.48555, -0.02479 51...</td>\n",
       "    </tr>\n",
       "    <tr>\n",
       "      <th>28</th>\n",
       "      <td>Islington</td>\n",
       "      <td>NaN</td>\n",
       "      <td>MULTIPOLYGON (((-0.13839 51.55686, -0.13851 51...</td>\n",
       "    </tr>\n",
       "    <tr>\n",
       "      <th>23</th>\n",
       "      <td>Kensington and Chelsea</td>\n",
       "      <td>NaN</td>\n",
       "      <td>MULTIPOLYGON (((-0.18388 51.47742, -0.18403 51...</td>\n",
       "    </tr>\n",
       "  </tbody>\n",
       "</table>\n",
       "</div>"
      ],
      "text/plain": [
       "             neighbourhood  neighbourhood_group  \\\n",
       "17               Greenwich                  NaN   \n",
       "28               Islington                  NaN   \n",
       "23  Kensington and Chelsea                  NaN   \n",
       "\n",
       "                                             geometry  \n",
       "17  MULTIPOLYGON (((-0.02485 51.48555, -0.02479 51...  \n",
       "28  MULTIPOLYGON (((-0.13839 51.55686, -0.13851 51...  \n",
       "23  MULTIPOLYGON (((-0.18388 51.47742, -0.18403 51...  "
      ]
     },
     "execution_count": 9,
     "metadata": {},
     "output_type": "execute_result"
    }
   ],
   "source": [
    "df_neighbourhoods_geo = geopandas.read_file(\"recommendations/neighbourhoods.geojson\")\n",
    "df_neighbourhoods_geo.sample(3)"
   ]
  },
  {
   "cell_type": "code",
   "execution_count": 10,
   "id": "c2af0626-b6fb-4e25-82d2-dcd645136702",
   "metadata": {},
   "outputs": [],
   "source": [
    "del df_neighbourhoods_geo, df_neighbourhoods #not usefull"
   ]
  },
  {
   "cell_type": "markdown",
   "id": "402c95bf-e622-45f8-b970-e0b584d74a29",
   "metadata": {},
   "source": [
    "# Review analysis"
   ]
  },
  {
   "cell_type": "code",
   "execution_count": 11,
   "id": "59e240b1-4e8e-4f92-a6cd-7be8a34a3e5f",
   "metadata": {},
   "outputs": [],
   "source": [
    "df_reviews['comments'].fillna('NA',inplace=True)"
   ]
  },
  {
   "cell_type": "code",
   "execution_count": 12,
   "id": "0957a25d-5143-4cd7-8b5e-23d900b66dcb",
   "metadata": {},
   "outputs": [],
   "source": [
    "df_reviews['isEnglish'] = df_reviews['comments'].apply(lambda x: x.isascii())"
   ]
  },
  {
   "cell_type": "markdown",
   "id": "9e00d124-791c-4f4e-9981-1a501fc5702f",
   "metadata": {},
   "source": [
    "## Filter non-english review"
   ]
  },
  {
   "cell_type": "code",
   "execution_count": 13,
   "id": "2b8332bc-17ec-4c30-b9dd-6e8bfc66fc5b",
   "metadata": {},
   "outputs": [
    {
     "name": "stdout",
     "output_type": "stream",
     "text": [
      "Number of review in non-eglish language is: 317386 ( 21.36 %)\n"
     ]
    }
   ],
   "source": [
    "print(\"Number of review in non-eglish language is:\",len(df_reviews[~df_reviews['isEnglish']]),\"(\",round(100.*len(df_reviews[~df_reviews['isEnglish']])/len(df_reviews),2),\"%)\")"
   ]
  },
  {
   "cell_type": "code",
   "execution_count": 14,
   "id": "18ee95e0-2b6c-4616-9b84-69b1f315c81b",
   "metadata": {},
   "outputs": [],
   "source": [
    "df_reviews = df_reviews[df_reviews['isEnglish']]"
   ]
  },
  {
   "cell_type": "markdown",
   "id": "984dd239-ec71-46b2-a817-4f0a8aaeb697",
   "metadata": {},
   "source": [
    "## Reviews statistic"
   ]
  },
  {
   "cell_type": "code",
   "execution_count": 15,
   "id": "17707b48-3cee-4cbb-ad89-d3673cc15b1f",
   "metadata": {},
   "outputs": [
    {
     "name": "stdout",
     "output_type": "stream",
     "text": [
      "Fraction of listings with review: 74.33 %\n"
     ]
    }
   ],
   "source": [
    "print(\"Fraction of listings with review:\",round(100.*df_reviews['listing_id'].nunique()/df_listings['id'].nunique(),2),\"%\")"
   ]
  },
  {
   "cell_type": "code",
   "execution_count": 16,
   "id": "529b227c-d2e1-4505-8fb2-b106506af322",
   "metadata": {},
   "outputs": [
    {
     "name": "stdout",
     "output_type": "stream",
     "text": [
      "Number of neighbourhoods 33\n"
     ]
    }
   ],
   "source": [
    "print(\"Number of neighbourhoods\",df_listings_summary['neighbourhood'].nunique())"
   ]
  },
  {
   "cell_type": "code",
   "execution_count": 17,
   "id": "e12dc1c7-a78e-47ca-9cfa-d222c65f1232",
   "metadata": {},
   "outputs": [
    {
     "name": "stdout",
     "output_type": "stream",
     "text": [
      "User [67753141]  wrote max( 90 ) reviews\n"
     ]
    }
   ],
   "source": [
    "df_reviews['reviews_per_user'] = df_reviews.groupby(['reviewer_id'])['id'].transform('nunique')\n",
    "print(\"User\",df_reviews[df_reviews['reviews_per_user']==df_reviews['reviews_per_user'].max()]['reviewer_id'].unique(),\n",
    "      \" wrote max(\",df_reviews['reviews_per_user'].max(),\") reviews\")"
   ]
  },
  {
   "cell_type": "code",
   "execution_count": 18,
   "id": "e435bbd8-3e88-4ff0-8d4a-46d2b94d86c1",
   "metadata": {},
   "outputs": [
    {
     "data": {
      "image/png": "[encoded data removed]",
      "text/plain": [
       "<Figure size 500x500 with 1 Axes>"
      ]
     },
     "metadata": {},
     "output_type": "display_data"
    }
   ],
   "source": [
    "sns.displot(df_reviews, x=\"reviews_per_user\", bins=50)\n",
    "plt.yscale('log')"
   ]
  },
  {
   "cell_type": "markdown",
   "id": "7b588624-1a30-423f-823e-9c90a73579c7",
   "metadata": {},
   "source": [
    "#### Observation: most of user write just few reviews, however some users write many reviews (up to 90!)"
   ]
  },
  {
   "cell_type": "code",
   "execution_count": 19,
   "id": "2b1fc27d-73a6-4abc-b786-d4ba469e47bd",
   "metadata": {},
   "outputs": [
    {
     "name": "stdout",
     "output_type": "stream",
     "text": [
      "On average user visited 1.72  locations\n"
     ]
    }
   ],
   "source": [
    "df_reviews['listings_per_user'] = df_reviews.groupby(['reviewer_id'])['listing_id'].transform('nunique')\n",
    "print(\"On average user visited\",round(df_reviews['listings_per_user'].mean(),2),\" locations\")"
   ]
  },
  {
   "cell_type": "code",
   "execution_count": 20,
   "id": "07c1527d-74ff-48c2-822b-d5cf099a29e6",
   "metadata": {},
   "outputs": [
    {
     "data": {
      "image/png": "[encoded data removed]",
      "text/plain": [
       "<Figure size 500x500 with 1 Axes>"
      ]
     },
     "metadata": {},
     "output_type": "display_data"
    }
   ],
   "source": [
    "sns.displot(df_reviews, x=\"listings_per_user\", bins=50)\n",
    "plt.yscale('log')"
   ]
  },
  {
   "cell_type": "code",
   "execution_count": 21,
   "id": "38bc8174-081f-4a1c-ba30-f1b03c5f12a3",
   "metadata": {},
   "outputs": [],
   "source": [
    "df_reviews['reviews_per_listing'] = df_reviews.groupby(['listing_id'])['id'].transform('nunique')\n",
    "df_reviews['users_per_listing'] = df_reviews.groupby(['listing_id'])['reviewer_id'].transform('nunique')"
   ]
  },
  {
   "cell_type": "code",
   "execution_count": 22,
   "id": "17ae9028-c984-43be-a455-4ec7f2629f93",
   "metadata": {},
   "outputs": [
    {
     "name": "stdout",
     "output_type": "stream",
     "text": [
      "On average a listing reviewed by 73.0  users\n"
     ]
    }
   ],
   "source": [
    "print(\"On average a listing reviewed by\",round(df_reviews['users_per_listing'].mean(),2),\" users\")"
   ]
  },
  {
   "cell_type": "code",
   "execution_count": 23,
   "id": "d29ece23-6fd6-44a6-b3c6-8c45d2761fc5",
   "metadata": {},
   "outputs": [
    {
     "data": {
      "text/plain": [
       "<seaborn.axisgrid.FacetGrid at 0x15a3e9180>"
      ]
     },
     "execution_count": 23,
     "metadata": {},
     "output_type": "execute_result"
    },
    {
     "data": {
      "image/png": "[encoded data removed]",
      "text/plain": [
       "<Figure size 500x500 with 1 Axes>"
      ]
     },
     "metadata": {},
     "output_type": "display_data"
    }
   ],
   "source": [
    "sns.displot(df_reviews, x=\"users_per_listing\", bins=50)\n",
    "#plt.yscale('log')"
   ]
  },
  {
   "cell_type": "markdown",
   "id": "59fbf6e6-d2cd-4562-a202-08a6766740d0",
   "metadata": {},
   "source": [
    "#### Observation: majority of listings have reviews from less than 100 users, but some are very popular and has ~600 reviewers"
   ]
  },
  {
   "cell_type": "markdown",
   "id": "bde99a60-c1e5-4300-a8ef-5a794cfef202",
   "metadata": {},
   "source": [
    "## Concatinate all reviews for a listing-user pair"
   ]
  },
  {
   "cell_type": "code",
   "execution_count": 24,
   "id": "f5c215bc-6ab2-452e-ba7f-0a13a33b34a4",
   "metadata": {},
   "outputs": [],
   "source": [
    "df_reviews['comments'].fillna('missing',inplace=True)"
   ]
  },
  {
   "cell_type": "code",
   "execution_count": 25,
   "id": "ad7d54f8-773f-4de6-aa50-68e0238a8935",
   "metadata": {},
   "outputs": [
    {
     "data": {
      "text/html": [
       "<div>\n",
       "<style scoped>\n",
       "    .dataframe tbody tr th:only-of-type {\n",
       "        vertical-align: middle;\n",
       "    }\n",
       "\n",
       "    .dataframe tbody tr th {\n",
       "        vertical-align: top;\n",
       "    }\n",
       "\n",
       "    .dataframe thead th {\n",
       "        text-align: right;\n",
       "    }\n",
       "</style>\n",
       "<table border=\"1\" class=\"dataframe\">\n",
       "  <thead>\n",
       "    <tr style=\"text-align: right;\">\n",
       "      <th></th>\n",
       "      <th>951798</th>\n",
       "      <th>222709</th>\n",
       "      <th>292400</th>\n",
       "    </tr>\n",
       "  </thead>\n",
       "  <tbody>\n",
       "    <tr>\n",
       "      <th>listing_id</th>\n",
       "      <td>26243758</td>\n",
       "      <td>4090206</td>\n",
       "      <td>5995648</td>\n",
       "    </tr>\n",
       "    <tr>\n",
       "      <th>reviewer_id</th>\n",
       "      <td>8917174</td>\n",
       "      <td>20841787</td>\n",
       "      <td>53454708</td>\n",
       "    </tr>\n",
       "    <tr>\n",
       "      <th>comments</th>\n",
       "      <td>Marina's place was sparkling clean, superb loc...</td>\n",
       "      <td>My boyfriend and I had a lovely stay here. Ber...</td>\n",
       "      <td>Extremely comfortable and relaxing stay In a g...</td>\n",
       "    </tr>\n",
       "  </tbody>\n",
       "</table>\n",
       "</div>"
      ],
      "text/plain": [
       "                                                        951798  \\\n",
       "listing_id                                            26243758   \n",
       "reviewer_id                                            8917174   \n",
       "comments     Marina's place was sparkling clean, superb loc...   \n",
       "\n",
       "                                                        222709  \\\n",
       "listing_id                                             4090206   \n",
       "reviewer_id                                           20841787   \n",
       "comments     My boyfriend and I had a lovely stay here. Ber...   \n",
       "\n",
       "                                                        292400  \n",
       "listing_id                                             5995648  \n",
       "reviewer_id                                           53454708  \n",
       "comments     Extremely comfortable and relaxing stay In a g...  "
      ]
     },
     "execution_count": 25,
     "metadata": {},
     "output_type": "execute_result"
    }
   ],
   "source": [
    "df_reviews_listing = df_reviews.groupby(['listing_id','reviewer_id'])['comments'].apply(','.join).reset_index()\n",
    "df_reviews_listing.sample(3).T"
   ]
  },
  {
   "cell_type": "markdown",
   "id": "7e768fae-9f5a-45c4-9529-aa9d4e9e213c",
   "metadata": {},
   "source": [
    "## Enchance reviews with listings descriptions"
   ]
  },
  {
   "cell_type": "code",
   "execution_count": 26,
   "id": "8b68e8be-dfdf-4b4e-abbe-27d447cf08f7",
   "metadata": {},
   "outputs": [
    {
     "data": {
      "text/plain": [
       "Index(['id', 'listing_url', 'scrape_id', 'last_scraped', 'name', 'summary',\n",
       "       'space', 'description', 'experiences_offered', 'neighborhood_overview',\n",
       "       ...\n",
       "       'instant_bookable', 'is_business_travel_ready', 'cancellation_policy',\n",
       "       'require_guest_profile_picture', 'require_guest_phone_verification',\n",
       "       'calculated_host_listings_count',\n",
       "       'calculated_host_listings_count_entire_homes',\n",
       "       'calculated_host_listings_count_private_rooms',\n",
       "       'calculated_host_listings_count_shared_rooms', 'reviews_per_month'],\n",
       "      dtype='object', length=106)"
      ]
     },
     "execution_count": 26,
     "metadata": {},
     "output_type": "execute_result"
    }
   ],
   "source": [
    "df_listings.columns"
   ]
  },
  {
   "cell_type": "code",
   "execution_count": 27,
   "id": "bd4bb8c0-337c-4ae7-96e0-22bbd2ea2bc3",
   "metadata": {},
   "outputs": [
    {
     "data": {
      "text/html": [
       "<div>\n",
       "<style scoped>\n",
       "    .dataframe tbody tr th:only-of-type {\n",
       "        vertical-align: middle;\n",
       "    }\n",
       "\n",
       "    .dataframe tbody tr th {\n",
       "        vertical-align: top;\n",
       "    }\n",
       "\n",
       "    .dataframe thead th {\n",
       "        text-align: right;\n",
       "    }\n",
       "</style>\n",
       "<table border=\"1\" class=\"dataframe\">\n",
       "  <thead>\n",
       "    <tr style=\"text-align: right;\">\n",
       "      <th></th>\n",
       "      <th>id</th>\n",
       "      <th>listing_url</th>\n",
       "      <th>scrape_id</th>\n",
       "      <th>last_scraped</th>\n",
       "      <th>name</th>\n",
       "      <th>summary</th>\n",
       "      <th>space</th>\n",
       "      <th>description</th>\n",
       "      <th>experiences_offered</th>\n",
       "      <th>neighborhood_overview</th>\n",
       "      <th>...</th>\n",
       "      <th>instant_bookable</th>\n",
       "      <th>is_business_travel_ready</th>\n",
       "      <th>cancellation_policy</th>\n",
       "      <th>require_guest_profile_picture</th>\n",
       "      <th>require_guest_phone_verification</th>\n",
       "      <th>calculated_host_listings_count</th>\n",
       "      <th>calculated_host_listings_count_entire_homes</th>\n",
       "      <th>calculated_host_listings_count_private_rooms</th>\n",
       "      <th>calculated_host_listings_count_shared_rooms</th>\n",
       "      <th>reviews_per_month</th>\n",
       "    </tr>\n",
       "  </thead>\n",
       "  <tbody>\n",
       "    <tr>\n",
       "      <th>8679</th>\n",
       "      <td>6794650</td>\n",
       "      <td>https://www.airbnb.com/rooms/6794650</td>\n",
       "      <td>20191105115249</td>\n",
       "      <td>2019-11-06</td>\n",
       "      <td>New two beds in central London</td>\n",
       "      <td>A lovely nearly new two bedrooms home in centr...</td>\n",
       "      <td>NaN</td>\n",
       "      <td>A lovely nearly new two bedrooms home in centr...</td>\n",
       "      <td>none</td>\n",
       "      <td>NaN</td>\n",
       "      <td>...</td>\n",
       "      <td>f</td>\n",
       "      <td>f</td>\n",
       "      <td>moderate</td>\n",
       "      <td>f</td>\n",
       "      <td>f</td>\n",
       "      <td>1</td>\n",
       "      <td>1</td>\n",
       "      <td>0</td>\n",
       "      <td>0</td>\n",
       "      <td>NaN</td>\n",
       "    </tr>\n",
       "    <tr>\n",
       "      <th>2608</th>\n",
       "      <td>1430558</td>\n",
       "      <td>https://www.airbnb.com/rooms/1430558</td>\n",
       "      <td>20191105115249</td>\n",
       "      <td>2019-11-06</td>\n",
       "      <td>Lovely Spacious Quiet Flat-CENTRAL- near Kings X</td>\n",
       "      <td>Lovely bright newly built flat in quiet but ce...</td>\n",
       "      <td>This is a lovely bright spacious newly built f...</td>\n",
       "      <td>Lovely bright newly built flat in quiet but ce...</td>\n",
       "      <td>none</td>\n",
       "      <td>I love how quiet it is- but how close and walk...</td>\n",
       "      <td>...</td>\n",
       "      <td>f</td>\n",
       "      <td>f</td>\n",
       "      <td>strict_14_with_grace_period</td>\n",
       "      <td>f</td>\n",
       "      <td>f</td>\n",
       "      <td>1</td>\n",
       "      <td>1</td>\n",
       "      <td>0</td>\n",
       "      <td>0</td>\n",
       "      <td>0.91</td>\n",
       "    </tr>\n",
       "    <tr>\n",
       "      <th>11734</th>\n",
       "      <td>8495545</td>\n",
       "      <td>https://www.airbnb.com/rooms/8495545</td>\n",
       "      <td>20191105115249</td>\n",
       "      <td>2019-11-05</td>\n",
       "      <td>Beautiful one bed flat in Belsize Park.</td>\n",
       "      <td>Beautiful one bed room flat with outdoor patio...</td>\n",
       "      <td>I wont be around but someone will be available...</td>\n",
       "      <td>Beautiful one bed room flat with outdoor patio...</td>\n",
       "      <td>none</td>\n",
       "      <td>Hampstead Heath is the largest outside space w...</td>\n",
       "      <td>...</td>\n",
       "      <td>f</td>\n",
       "      <td>f</td>\n",
       "      <td>strict_14_with_grace_period</td>\n",
       "      <td>f</td>\n",
       "      <td>f</td>\n",
       "      <td>1</td>\n",
       "      <td>1</td>\n",
       "      <td>0</td>\n",
       "      <td>0</td>\n",
       "      <td>0.45</td>\n",
       "    </tr>\n",
       "  </tbody>\n",
       "</table>\n",
       "<p>3 rows × 106 columns</p>\n",
       "</div>"
      ],
      "text/plain": [
       "            id                           listing_url       scrape_id  \\\n",
       "8679   6794650  https://www.airbnb.com/rooms/6794650  20191105115249   \n",
       "2608   1430558  https://www.airbnb.com/rooms/1430558  20191105115249   \n",
       "11734  8495545  https://www.airbnb.com/rooms/8495545  20191105115249   \n",
       "\n",
       "      last_scraped                                              name  \\\n",
       "8679    2019-11-06                    New two beds in central London   \n",
       "2608    2019-11-06  Lovely Spacious Quiet Flat-CENTRAL- near Kings X   \n",
       "11734   2019-11-05           Beautiful one bed flat in Belsize Park.   \n",
       "\n",
       "                                                 summary  \\\n",
       "8679   A lovely nearly new two bedrooms home in centr...   \n",
       "2608   Lovely bright newly built flat in quiet but ce...   \n",
       "11734  Beautiful one bed room flat with outdoor patio...   \n",
       "\n",
       "                                                   space  \\\n",
       "8679                                                 NaN   \n",
       "2608   This is a lovely bright spacious newly built f...   \n",
       "11734  I wont be around but someone will be available...   \n",
       "\n",
       "                                             description experiences_offered  \\\n",
       "8679   A lovely nearly new two bedrooms home in centr...                none   \n",
       "2608   Lovely bright newly built flat in quiet but ce...                none   \n",
       "11734  Beautiful one bed room flat with outdoor patio...                none   \n",
       "\n",
       "                                   neighborhood_overview  ...  \\\n",
       "8679                                                 NaN  ...   \n",
       "2608   I love how quiet it is- but how close and walk...  ...   \n",
       "11734  Hampstead Heath is the largest outside space w...  ...   \n",
       "\n",
       "      instant_bookable is_business_travel_ready          cancellation_policy  \\\n",
       "8679                 f                        f                     moderate   \n",
       "2608                 f                        f  strict_14_with_grace_period   \n",
       "11734                f                        f  strict_14_with_grace_period   \n",
       "\n",
       "      require_guest_profile_picture require_guest_phone_verification  \\\n",
       "8679                              f                                f   \n",
       "2608                              f                                f   \n",
       "11734                             f                                f   \n",
       "\n",
       "       calculated_host_listings_count  \\\n",
       "8679                                1   \n",
       "2608                                1   \n",
       "11734                               1   \n",
       "\n",
       "       calculated_host_listings_count_entire_homes  \\\n",
       "8679                                             1   \n",
       "2608                                             1   \n",
       "11734                                            1   \n",
       "\n",
       "      calculated_host_listings_count_private_rooms  \\\n",
       "8679                                             0   \n",
       "2608                                             0   \n",
       "11734                                            0   \n",
       "\n",
       "       calculated_host_listings_count_shared_rooms  reviews_per_month  \n",
       "8679                                             0                NaN  \n",
       "2608                                             0               0.91  \n",
       "11734                                            0               0.45  \n",
       "\n",
       "[3 rows x 106 columns]"
      ]
     },
     "execution_count": 27,
     "metadata": {},
     "output_type": "execute_result"
    }
   ],
   "source": [
    "df_listings.sample(3)"
   ]
  },
  {
   "cell_type": "code",
   "execution_count": 28,
   "id": "8b6cf879-f439-4c13-a2fc-fd6f15b2faf1",
   "metadata": {},
   "outputs": [
    {
     "data": {
      "text/html": [
       "<div>\n",
       "<style scoped>\n",
       "    .dataframe tbody tr th:only-of-type {\n",
       "        vertical-align: middle;\n",
       "    }\n",
       "\n",
       "    .dataframe tbody tr th {\n",
       "        vertical-align: top;\n",
       "    }\n",
       "\n",
       "    .dataframe thead th {\n",
       "        text-align: right;\n",
       "    }\n",
       "</style>\n",
       "<table border=\"1\" class=\"dataframe\">\n",
       "  <thead>\n",
       "    <tr style=\"text-align: right;\">\n",
       "      <th></th>\n",
       "      <th>listing_id</th>\n",
       "      <th>reviewer_id</th>\n",
       "      <th>comments</th>\n",
       "      <th>id</th>\n",
       "      <th>name</th>\n",
       "      <th>description</th>\n",
       "      <th>neighborhood_overview</th>\n",
       "    </tr>\n",
       "  </thead>\n",
       "  <tbody>\n",
       "    <tr>\n",
       "      <th>581402</th>\n",
       "      <td>15211492</td>\n",
       "      <td>173367022</td>\n",
       "      <td>Wow.. I'd love to stay there!My place is very ...</td>\n",
       "      <td>15211492</td>\n",
       "      <td>Wow.. I'd love to stay there!</td>\n",
       "      <td>My place is very close to Queens park tube sta...</td>\n",
       "      <td>Great neighbourhood, very clean and safe.</td>\n",
       "    </tr>\n",
       "    <tr>\n",
       "      <th>144422</th>\n",
       "      <td>1848733</td>\n",
       "      <td>5377182</td>\n",
       "      <td>3 BDR beautiful and stylish Islington flatEnjo...</td>\n",
       "      <td>1848733</td>\n",
       "      <td>3 BDR beautiful and stylish Islington flat</td>\n",
       "      <td>Enjoy this stunning architecturally designed 3...</td>\n",
       "      <td>Canonbury itself is gorgeous - Keira Knightley...</td>\n",
       "    </tr>\n",
       "    <tr>\n",
       "      <th>1004850</th>\n",
       "      <td>28684370</td>\n",
       "      <td>10978483</td>\n",
       "      <td>Modern 2BD Apartment Right By The Thames!Based...</td>\n",
       "      <td>28684370</td>\n",
       "      <td>Modern 2BD Apartment Right By The Thames!</td>\n",
       "      <td>Based in a stunning new Thames-side developmen...</td>\n",
       "      <td>Battersea is heralded as one of London’s most ...</td>\n",
       "    </tr>\n",
       "    <tr>\n",
       "      <th>151011</th>\n",
       "      <td>2024046</td>\n",
       "      <td>62187488</td>\n",
       "      <td>Royal Court of Justice viewAlthough the design...</td>\n",
       "      <td>2024046</td>\n",
       "      <td>Royal Court of Justice view</td>\n",
       "      <td>Although the design of the building appears to...</td>\n",
       "      <td>In the neighbourhood: St Paul's Cathedral, Cov...</td>\n",
       "    </tr>\n",
       "    <tr>\n",
       "      <th>34725</th>\n",
       "      <td>388032</td>\n",
       "      <td>47114480</td>\n",
       "      <td>Single roomI have a beautiful single bed in a ...</td>\n",
       "      <td>388032</td>\n",
       "      <td>Single room</td>\n",
       "      <td>I have a beautiful single bed in a double room...</td>\n",
       "      <td>NA</td>\n",
       "    </tr>\n",
       "  </tbody>\n",
       "</table>\n",
       "</div>"
      ],
      "text/plain": [
       "         listing_id  reviewer_id  \\\n",
       "581402     15211492    173367022   \n",
       "144422      1848733      5377182   \n",
       "1004850    28684370     10978483   \n",
       "151011      2024046     62187488   \n",
       "34725        388032     47114480   \n",
       "\n",
       "                                                  comments        id  \\\n",
       "581402   Wow.. I'd love to stay there!My place is very ...  15211492   \n",
       "144422   3 BDR beautiful and stylish Islington flatEnjo...   1848733   \n",
       "1004850  Modern 2BD Apartment Right By The Thames!Based...  28684370   \n",
       "151011   Royal Court of Justice viewAlthough the design...   2024046   \n",
       "34725    Single roomI have a beautiful single bed in a ...    388032   \n",
       "\n",
       "                                               name  \\\n",
       "581402                Wow.. I'd love to stay there!   \n",
       "144422   3 BDR beautiful and stylish Islington flat   \n",
       "1004850   Modern 2BD Apartment Right By The Thames!   \n",
       "151011                  Royal Court of Justice view   \n",
       "34725                                   Single room   \n",
       "\n",
       "                                               description  \\\n",
       "581402   My place is very close to Queens park tube sta...   \n",
       "144422   Enjoy this stunning architecturally designed 3...   \n",
       "1004850  Based in a stunning new Thames-side developmen...   \n",
       "151011   Although the design of the building appears to...   \n",
       "34725    I have a beautiful single bed in a double room...   \n",
       "\n",
       "                                     neighborhood_overview  \n",
       "581402           Great neighbourhood, very clean and safe.  \n",
       "144422   Canonbury itself is gorgeous - Keira Knightley...  \n",
       "1004850  Battersea is heralded as one of London’s most ...  \n",
       "151011   In the neighbourhood: St Paul's Cathedral, Cov...  \n",
       "34725                                                   NA  "
      ]
     },
     "execution_count": 28,
     "metadata": {},
     "output_type": "execute_result"
    }
   ],
   "source": [
    "df_listings['neighborhood_overview'].fillna('NA',inplace=True)\n",
    "df_listings['description'].fillna('NA',inplace=True)\n",
    "df_listings['name'].fillna('NA',inplace=True)\n",
    "df_reviews_listing = df_reviews_listing.merge(df_listings[['id','name','description','neighborhood_overview']],left_on='listing_id',right_on='id',how='left')\n",
    "df_reviews_listing['comments'] = df_reviews_listing['name']+\"\"+df_reviews_listing['description']+\"\"+df_reviews_listing['neighborhood_overview']+\"\"+df_reviews_listing['comments']\n",
    "df_reviews_listing.sample(5) "
   ]
  },
  {
   "cell_type": "code",
   "execution_count": 29,
   "id": "56db59ae-dce2-4b86-92f7-37458dd9e266",
   "metadata": {},
   "outputs": [
    {
     "data": {
      "text/plain": [
       "85068"
      ]
     },
     "execution_count": 29,
     "metadata": {},
     "output_type": "execute_result"
    }
   ],
   "source": [
    "df_listings['id'].nunique()"
   ]
  },
  {
   "cell_type": "code",
   "execution_count": 30,
   "id": "e7de99af-4d68-415a-a532-6aa52c612a68",
   "metadata": {},
   "outputs": [
    {
     "data": {
      "text/plain": [
       "63229"
      ]
     },
     "execution_count": 30,
     "metadata": {},
     "output_type": "execute_result"
    }
   ],
   "source": [
    "df_reviews_listing['listing_id'].nunique()"
   ]
  },
  {
   "cell_type": "code",
   "execution_count": 31,
   "id": "d29535fb-2a29-4367-be8a-f898ac838027",
   "metadata": {},
   "outputs": [
    {
     "data": {
      "text/plain": [
       "967763"
      ]
     },
     "execution_count": 31,
     "metadata": {},
     "output_type": "execute_result"
    }
   ],
   "source": [
    "df_reviews_listing['reviewer_id'].nunique()"
   ]
  },
  {
   "cell_type": "markdown",
   "id": "950967c8-cdac-453d-8ffe-5a23c6274862",
   "metadata": {},
   "source": [
    "# Save the file for modeling"
   ]
  },
  {
   "cell_type": "code",
   "execution_count": 32,
   "id": "23fb13fc-9393-4d1d-877d-23c166ea91de",
   "metadata": {},
   "outputs": [],
   "source": [
    "df_reviews_listing.to_csv('review_listings_merged.csv',index=False)"
   ]
  },
  {
   "cell_type": "code",
   "execution_count": 33,
   "id": "98ecb44e-b7cb-4dab-94b6-0a92c1db5ff2",
   "metadata": {},
   "outputs": [
    {
     "name": "stdout",
     "output_type": "stream",
     "text": [
      "done!\n"
     ]
    }
   ],
   "source": [
    "print(\"done!\")"
   ]
  }
 ],
 "metadata": {
  "kernelspec": {
   "display_name": "Python 3 (ipykernel)",
   "language": "python",
   "name": "python3"
  },
  "language_info": {
   "codemirror_mode": {
    "name": "ipython",
    "version": 3
   },
   "file_extension": ".py",
   "mimetype": "text/x-python",
   "name": "python",
   "nbconvert_exporter": "python",
   "pygments_lexer": "ipython3",
   "version": "3.10.11"
  }
 },
 "nbformat": 4,
 "nbformat_minor": 5
}
