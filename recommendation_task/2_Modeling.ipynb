{
 "cells": [
  {
   "cell_type": "markdown",
   "id": "7810d918-ad54-42ed-af5f-d0f4057afa77",
   "metadata": {},
   "source": [
    "# Recommendation system based on reviews"
   ]
  },
  {
   "cell_type": "markdown",
   "id": "2ee2327a-cac3-43e9-b553-6b7a6963703e",
   "metadata": {},
   "source": [
    "## Context:\n",
    "You, as a Data Scientist, have been asked to build a recommendation service for users on a vacation rental platform based on their previous experience.\n",
    "## Task:\n",
    "Your task would be to develop a recommendation model that could recommend returning users new properties based on their old reviews. Let’s just assume that our platform has only vacation houses in London and we would like to recommend new properties only to our loyal returning users.\n",
    "## Data:\n",
    "As an input you get the London Airbnb Dataset where you can find user reviews and general information about listings.\n",
    "\n",
    "## Deliverables / outcome:\n",
    "Upon completion of your analysis, your presentation should encompass the following:\n",
    "\n",
    "• insights and challenges that you’ve faced during the discovery process,\n",
    "\n",
    "• results of the sentiment analysis, how you extracted signals for the recommendation model\n",
    "\n",
    "• recommendation model itself: what approach and algorithm was selected, why and how it can be evaluated.\n"
   ]
  },
  {
   "cell_type": "markdown",
   "id": "3f3ebcef-7ee3-47e4-9edc-f336f188cd55",
   "metadata": {},
   "source": [
    "# Idea of the solution"
   ]
  },
  {
   "cell_type": "markdown",
   "id": "ea92b249-2652-4ad9-8330-86d8e09fabd8",
   "metadata": {},
   "source": [
    "## Algorithm\n",
    "\n",
    "We use the k-means algorithm to cluster all the listings based on the reviews. The features would form the unsupervised clusters based on TF-IDF scores of the text.\n",
    "\n",
    "\n",
    "**How do we do that ?**\n",
    "\n",
    "Each listings's reviews are collected and concatenated as a single string. Thus, each listings has the feature set of tf-idf scores for the concatenated string of reviews. Further the tf-idf scores as a feature set is used to find the euclidean distance between selected points in space, thus allowing us to implement the k-means algorithm.\n",
    "\n",
    "\n",
    "**What is TF-IDF score ?**\n",
    "\n",
    "Given a **document**(concatenated string of a listing) in a **corpus**(across the reviews of all listings), It tells how rarely a word occurs accross the corpus and how frequently it occurs in a that particular document.\n",
    "\n",
    "**Example for intution**\n",
    "\n",
    "Consider comparing reviews of chocolates. Let's assume there are three variants in chocolates available in the market. \n",
    "\n",
    "***Review for Variant 1*** : This is the best choclate in the world.\n",
    "\n",
    "***Review for Variant 2*** : I liked this choclate.\n",
    "\n",
    "Given that similarity of two sentences here is based on Euclidean distance, the reviews would have closer distance due the presence of the word \" Chocolate\". \n",
    "\n",
    "However, there would a be lot of noice and misallocations, but it's possibility is very less as the reviews for rental places would involve some amount of context to express the thoughts. Also we concatenate all the reviews for the listing, which reduce the noise by considering the tf-idf scores for each word.\n"
   ]
  },
  {
   "cell_type": "code",
   "execution_count": 1,
   "id": "a61ca00e-be6a-467b-acc5-4c6386299c5f",
   "metadata": {},
   "outputs": [],
   "source": [
    "import pandas as pd\n",
    "\n",
    "from sklearn.feature_extraction.text import ENGLISH_STOP_WORDS, TfidfVectorizer\n",
    "from sklearn.cluster import KMeans\n",
    "from sklearn.pipeline import Pipeline\n",
    "import random\n",
    "\n",
    "import matplotlib.pyplot as plt\n",
    "import seaborn as sns\n",
    "%matplotlib inline "
   ]
  },
  {
   "cell_type": "markdown",
   "id": "731e3871-0f17-4177-a2ba-7407b6f4c513",
   "metadata": {},
   "source": [
    "# Read data"
   ]
  },
  {
   "cell_type": "code",
   "execution_count": 2,
   "id": "5acbbb9c-3a16-4774-b073-cada22fc440a",
   "metadata": {},
   "outputs": [
    {
     "data": {
      "text/html": [
       "<div>\n",
       "<style scoped>\n",
       "    .dataframe tbody tr th:only-of-type {\n",
       "        vertical-align: middle;\n",
       "    }\n",
       "\n",
       "    .dataframe tbody tr th {\n",
       "        vertical-align: top;\n",
       "    }\n",
       "\n",
       "    .dataframe thead th {\n",
       "        text-align: right;\n",
       "    }\n",
       "</style>\n",
       "<table border=\"1\" class=\"dataframe\">\n",
       "  <thead>\n",
       "    <tr style=\"text-align: right;\">\n",
       "      <th></th>\n",
       "      <th>listing_id</th>\n",
       "      <th>reviewer_id</th>\n",
       "      <th>comments</th>\n",
       "      <th>id</th>\n",
       "      <th>name</th>\n",
       "      <th>description</th>\n",
       "      <th>neighborhood_overview</th>\n",
       "    </tr>\n",
       "  </thead>\n",
       "  <tbody>\n",
       "    <tr>\n",
       "      <th>720318</th>\n",
       "      <td>18767858</td>\n",
       "      <td>12124772</td>\n",
       "      <td>Fantastic one bedroom apartment in Hunter Stre...</td>\n",
       "      <td>18767858</td>\n",
       "      <td>Fantastic one bedroom apartment in Hunter Stre...</td>\n",
       "      <td>One Bedroom apartment perfect for couples, sol...</td>\n",
       "      <td>Bloomsbury is within LB of Camden and bordered...</td>\n",
       "    </tr>\n",
       "    <tr>\n",
       "      <th>191174</th>\n",
       "      <td>3252847</td>\n",
       "      <td>38134121</td>\n",
       "      <td>Perfect Shoreditch 2 bedroom Zone1Location Loc...</td>\n",
       "      <td>3252847</td>\n",
       "      <td>Perfect Shoreditch 2 bedroom Zone1</td>\n",
       "      <td>Location Location Location !!! PLEASE KINDLY A...</td>\n",
       "      <td>NaN</td>\n",
       "    </tr>\n",
       "    <tr>\n",
       "      <th>467072</th>\n",
       "      <td>12076769</td>\n",
       "      <td>114721342</td>\n",
       "      <td>DOUBLE ROOM NEXT TO EXCEL &amp; CITYA strategicall...</td>\n",
       "      <td>12076769</td>\n",
       "      <td>DOUBLE ROOM NEXT TO EXCEL &amp; CITY</td>\n",
       "      <td>A strategically located cosy room next to the ...</td>\n",
       "      <td>NaN</td>\n",
       "    </tr>\n",
       "  </tbody>\n",
       "</table>\n",
       "</div>"
      ],
      "text/plain": [
       "        listing_id  reviewer_id  \\\n",
       "720318    18767858     12124772   \n",
       "191174     3252847     38134121   \n",
       "467072    12076769    114721342   \n",
       "\n",
       "                                                 comments        id  \\\n",
       "720318  Fantastic one bedroom apartment in Hunter Stre...  18767858   \n",
       "191174  Perfect Shoreditch 2 bedroom Zone1Location Loc...   3252847   \n",
       "467072  DOUBLE ROOM NEXT TO EXCEL & CITYA strategicall...  12076769   \n",
       "\n",
       "                                                     name  \\\n",
       "720318  Fantastic one bedroom apartment in Hunter Stre...   \n",
       "191174                 Perfect Shoreditch 2 bedroom Zone1   \n",
       "467072                   DOUBLE ROOM NEXT TO EXCEL & CITY   \n",
       "\n",
       "                                              description  \\\n",
       "720318  One Bedroom apartment perfect for couples, sol...   \n",
       "191174  Location Location Location !!! PLEASE KINDLY A...   \n",
       "467072  A strategically located cosy room next to the ...   \n",
       "\n",
       "                                    neighborhood_overview  \n",
       "720318  Bloomsbury is within LB of Camden and bordered...  \n",
       "191174                                                NaN  \n",
       "467072                                                NaN  "
      ]
     },
     "execution_count": 2,
     "metadata": {},
     "output_type": "execute_result"
    }
   ],
   "source": [
    "df_reviews= pd.read_csv('review_listings_merged.csv')\n",
    "df_reviews.sample(3)"
   ]
  },
  {
   "cell_type": "code",
   "execution_count": null,
   "id": "6da72a35-1fb5-410e-8834-22a26ec5aafb",
   "metadata": {},
   "outputs": [],
   "source": []
  },
  {
   "cell_type": "markdown",
   "id": "177dbb14-c96b-445c-9334-545c11c590e0",
   "metadata": {},
   "source": [
    "# Modeling"
   ]
  },
  {
   "cell_type": "code",
   "execution_count": 3,
   "id": "af75c3c7-7395-48fb-8a38-5e4ffa69a055",
   "metadata": {},
   "outputs": [],
   "source": [
    "#Buidling a pipeline to extract TF-IDF scores of words from the given text devoid of stop words\n",
    "pipeline = Pipeline(steps= [('tfidf', TfidfVectorizer(lowercase=True,\n",
    "                                                      max_features=240,\n",
    "                                                      stop_words= list(ENGLISH_STOP_WORDS))),\n",
    "                            ('model',KMeans(n_clusters=60))])"
   ]
  },
  {
   "cell_type": "code",
   "execution_count": 4,
   "id": "3d5c2851-1708-456f-aa7b-8d4101c589ea",
   "metadata": {},
   "outputs": [
    {
     "name": "stderr",
     "output_type": "stream",
     "text": [
      "/Users/rdyo/code/smg/smg_env/lib/python3.10/site-packages/sklearn/cluster/_kmeans.py:1416: FutureWarning: The default value of `n_init` will change from 10 to 'auto' in 1.4. Set the value of `n_init` explicitly to suppress the warning\n",
      "  super()._check_params_vs_input(X, default_n_init=10)\n"
     ]
    }
   ],
   "source": [
    "#We fit the model pipeline with review texts and load the df_review dataframe with cluster predictions\n",
    "model = pipeline.fit(df_reviews['comments'])"
   ]
  },
  {
   "cell_type": "code",
   "execution_count": 5,
   "id": "a1742519-d2d9-48c8-8c1e-4d519bac31cf",
   "metadata": {},
   "outputs": [],
   "source": [
    "df_reviews['Cluster'] = model.predict(df_reviews['comments'])"
   ]
  },
  {
   "cell_type": "code",
   "execution_count": 6,
   "id": "75c416ba-986c-43ff-bf9a-fc396474a2bd",
   "metadata": {},
   "outputs": [
    {
     "data": {
      "text/html": [
       "<div>\n",
       "<style scoped>\n",
       "    .dataframe tbody tr th:only-of-type {\n",
       "        vertical-align: middle;\n",
       "    }\n",
       "\n",
       "    .dataframe tbody tr th {\n",
       "        vertical-align: top;\n",
       "    }\n",
       "\n",
       "    .dataframe thead th {\n",
       "        text-align: right;\n",
       "    }\n",
       "</style>\n",
       "<table border=\"1\" class=\"dataframe\">\n",
       "  <thead>\n",
       "    <tr style=\"text-align: right;\">\n",
       "      <th></th>\n",
       "      <th>listing_id</th>\n",
       "      <th>reviewer_id</th>\n",
       "      <th>comments</th>\n",
       "      <th>id</th>\n",
       "      <th>name</th>\n",
       "      <th>description</th>\n",
       "      <th>neighborhood_overview</th>\n",
       "      <th>Cluster</th>\n",
       "    </tr>\n",
       "  </thead>\n",
       "  <tbody>\n",
       "    <tr>\n",
       "      <th>1088621</th>\n",
       "      <td>34107611</td>\n",
       "      <td>257727801</td>\n",
       "      <td>Single room - 3min walk from Sudbury Hill stat...</td>\n",
       "      <td>34107611</td>\n",
       "      <td>Single room - 3min walk from Sudbury Hill station</td>\n",
       "      <td>The room is always clean and freshly painted. ...</td>\n",
       "      <td>NaN</td>\n",
       "      <td>4</td>\n",
       "    </tr>\n",
       "    <tr>\n",
       "      <th>245125</th>\n",
       "      <td>4671441</td>\n",
       "      <td>58069122</td>\n",
       "      <td>Poppyseed Studio .. Home from home!Poppyseed S...</td>\n",
       "      <td>4671441</td>\n",
       "      <td>Poppyseed Studio .. Home from home!</td>\n",
       "      <td>Poppyseed Studio is a gorgeous, sunny studio r...</td>\n",
       "      <td>I love the local shopkeepers and the village a...</td>\n",
       "      <td>2</td>\n",
       "    </tr>\n",
       "    <tr>\n",
       "      <th>1126202</th>\n",
       "      <td>37589784</td>\n",
       "      <td>9582336</td>\n",
       "      <td>Cozy Double Bedroom in Euston London (13)A spa...</td>\n",
       "      <td>37589784</td>\n",
       "      <td>Cozy Double Bedroom in Euston London (13)</td>\n",
       "      <td>A spacious private bedroom with wood flooring,...</td>\n",
       "      <td>Euston station is located in Camden in Euston ...</td>\n",
       "      <td>50</td>\n",
       "    </tr>\n",
       "  </tbody>\n",
       "</table>\n",
       "</div>"
      ],
      "text/plain": [
       "         listing_id  reviewer_id  \\\n",
       "1088621    34107611    257727801   \n",
       "245125      4671441     58069122   \n",
       "1126202    37589784      9582336   \n",
       "\n",
       "                                                  comments        id  \\\n",
       "1088621  Single room - 3min walk from Sudbury Hill stat...  34107611   \n",
       "245125   Poppyseed Studio .. Home from home!Poppyseed S...   4671441   \n",
       "1126202  Cozy Double Bedroom in Euston London (13)A spa...  37589784   \n",
       "\n",
       "                                                      name  \\\n",
       "1088621  Single room - 3min walk from Sudbury Hill station   \n",
       "245125                 Poppyseed Studio .. Home from home!   \n",
       "1126202          Cozy Double Bedroom in Euston London (13)   \n",
       "\n",
       "                                               description  \\\n",
       "1088621  The room is always clean and freshly painted. ...   \n",
       "245125   Poppyseed Studio is a gorgeous, sunny studio r...   \n",
       "1126202  A spacious private bedroom with wood flooring,...   \n",
       "\n",
       "                                     neighborhood_overview  Cluster  \n",
       "1088621                                                NaN        4  \n",
       "245125   I love the local shopkeepers and the village a...        2  \n",
       "1126202  Euston station is located in Camden in Euston ...       50  "
      ]
     },
     "execution_count": 6,
     "metadata": {},
     "output_type": "execute_result"
    }
   ],
   "source": [
    "df_reviews.sample(3)"
   ]
  },
  {
   "cell_type": "markdown",
   "id": "9dd74dfd-cdde-4328-a730-5474844f0a01",
   "metadata": {},
   "source": [
    "# Recommendation"
   ]
  },
  {
   "cell_type": "code",
   "execution_count": 7,
   "id": "9d2f5208-4191-4e0b-86ff-3a7bdad5ad65",
   "metadata": {},
   "outputs": [
    {
     "name": "stderr",
     "output_type": "stream",
     "text": [
      "/var/folders/m3/g488472j5m107y4lcmq9gs940000gr/T/ipykernel_53549/572966863.py:1: DtypeWarning: Columns (61,62,94,95) have mixed types. Specify dtype option on import or set low_memory=False.\n",
      "  df_listings= pd.read_csv('recommendations/listings.csv')\n"
     ]
    }
   ],
   "source": [
    "df_listings= pd.read_csv('recommendations/listings.csv')"
   ]
  },
  {
   "cell_type": "code",
   "execution_count": 8,
   "id": "c0ce54c7-fafc-447a-95e2-3cc69dc90a9e",
   "metadata": {},
   "outputs": [],
   "source": [
    "def suggest_listings(df: pd.DataFrame, reviewer_id: int) -> list[int]:\n",
    "    list_seen_listings = set(df[df['reviewer_id']==reviewer_id]['listing_id'].values)\n",
    "    cluster = df[df['reviewer_id']==reviewer_id]['Cluster'].values[0]\n",
    "    list_cluster_listings = set(df[df['Cluster']==cluster]['listing_id'].values)\n",
    "    return random.sample(list_cluster_listings.difference(list_seen_listings),3)"
   ]
  },
  {
   "cell_type": "code",
   "execution_count": 9,
   "id": "0d85f23e-2874-4ceb-a7dc-25a738d17579",
   "metadata": {},
   "outputs": [
    {
     "name": "stderr",
     "output_type": "stream",
     "text": [
      "/var/folders/m3/g488472j5m107y4lcmq9gs940000gr/T/ipykernel_53549/808730007.py:5: DeprecationWarning: Sampling from a set deprecated\n",
      "since Python 3.9 and will be removed in a subsequent version.\n",
      "  return random.sample(list_cluster_listings.difference(list_seen_listings),3)\n"
     ]
    },
    {
     "data": {
      "text/plain": [
       "[31325432, 20098244, 35024701]"
      ]
     },
     "execution_count": 9,
     "metadata": {},
     "output_type": "execute_result"
    }
   ],
   "source": [
    "suggest_listings(df=df_reviews, reviewer_id=1621287)"
   ]
  },
  {
   "cell_type": "code",
   "execution_count": 10,
   "id": "5732b346-ecd6-4b9b-b752-5d50c89c3ac4",
   "metadata": {},
   "outputs": [
    {
     "data": {
      "text/plain": [
       "array([\"A quiet, light flat in a very quiet road in central London. The building is Georgian-style and in a leafy quiet street, five mins walk from Borough tube. Beautiful garden. A whole flat in a quiet, Georgian-style building, two double bedrooms and a living room which can be used as a third double bedroom.  Its in a very quiet leafy street and there is a really nice garden as well as access to two beautiful private gardens shared with the other residents of Trinity Street, twenty seconds walk away in the street, so plenty of choice in case we ever get a sunny day!  There's wifi and an equipped kitchen that you're very welcome to use. Its a lovely, historical area, you are five minutes walk from Borough market,  fifteen from Waterloo, twenty from the Southbank. Everywhere. It's an amazing neighbourhood - real Dickensian London! We're five minutes walk from Borough tube station, and ten minutes from London Bridge and the world-famous Borough Market. A few minutes further is the river and yo\"],\n",
       "      dtype=object)"
      ]
     },
     "execution_count": 10,
     "metadata": {},
     "output_type": "execute_result"
    }
   ],
   "source": [
    "df_reviews[df_reviews['reviewer_id']==1621287]['description'].values"
   ]
  },
  {
   "cell_type": "code",
   "execution_count": null,
   "id": "1e2a2098-cc24-479f-9c80-e17d83afdd27",
   "metadata": {},
   "outputs": [],
   "source": []
  },
  {
   "cell_type": "code",
   "execution_count": 11,
   "id": "770634a2-9789-4bfb-a969-dd5ab15b8823",
   "metadata": {},
   "outputs": [
    {
     "name": "stderr",
     "output_type": "stream",
     "text": [
      "/var/folders/m3/g488472j5m107y4lcmq9gs940000gr/T/ipykernel_53549/808730007.py:5: DeprecationWarning: Sampling from a set deprecated\n",
      "since Python 3.9 and will be removed in a subsequent version.\n",
      "  return random.sample(list_cluster_listings.difference(list_seen_listings),3)\n"
     ]
    },
    {
     "data": {
      "text/plain": [
       "array([\"Homely but peaceful apartment in Hackney Central (less than 10 minutes' walk from the nearest station), beautiful building in a fun area of London with lots of amenities on your doorstep or easy access to the centre of London.\",\n",
       "       \"Please READ the WHOLE LISTING Attentively! NO other party (friend, relatives, etc) bookings! Unless you email me and I approve. Please read the house rules and only if you are happy with Everything you can book/request. A lovely and spacious room - suits travellers & people who come to London for business/work. Ideal for those who work for BBC (just (Phone number hidden by Airbnb) min away Walk), Westfield Mall (10 minute away Walk). Locked room. Check in ONLY BY 10PM! NO guests who work nights and sleep during daytime. The kitchen will be shared only with 1 person and is available for light cooking and eating. NO Cooking with strong spices (ex. garlic, onions, etc). The bathroom is shared with 1 or 2 people, depending on the circumstances.  In the house also lives another person  and I also have another guest room, but on a different floor (first). This room is on the ground floor. Kitchen Bathroom/toilet Second toilet My programe is unpredictable.  I'll be assisting you in person, if\",\n",
       "       'This is a spacious yet cosy 2 bedroom home located just 13 minutes walk away from ExCel Centre. The kitchen is fully equipped with a cooker/oven,  washer/dryer,  kettle,  microwave, toaster and dishwasher. Linens and towels at no extra cost with basic bathroom supplies. Smart TV in Living room for your entertainment. We welcome holiday makers, families and contractors alike.  FREE Parking!  FREE UNLIMITED WiFi! 2 bedrooms with zip and lock beds. Each room can be set up as either 2 single beds or 1 king size bed as per request.   Living room contains 2 sofa beds which can sleep 1 person per sofa. The kitchen is fully equipped.   Complimentary tea and coffee for the entire stay. The entire house is available to guests. We are always contactable during your stay either via mobile or Air BnB. Excel Centre is just 13 minutes walk away and 7 minutes drive away.  Emirates cable car is 10 minutes walk away.  The O2 Arena is 20 minutes from the house.  Stratford Shopping Centre is 20 minutes aw'],\n",
       "      dtype=object)"
      ]
     },
     "execution_count": 11,
     "metadata": {},
     "output_type": "execute_result"
    }
   ],
   "source": [
    "df_listings[df_listings['id'].isin(suggest_listings(df=df_reviews, reviewer_id=1621287))]['description'].values"
   ]
  },
  {
   "cell_type": "markdown",
   "id": "4c6a28d1-0686-45e2-bc37-c5c7fbad7ad6",
   "metadata": {},
   "source": [
    "# Outline"
   ]
  },
  {
   "cell_type": "markdown",
   "id": "578947a5-9258-456c-a44f-d7464135e974",
   "metadata": {},
   "source": [
    "## Evaluation"
   ]
  },
  {
   "cell_type": "markdown",
   "id": "64797606-6be8-42af-8ebc-0a10a1ccb529",
   "metadata": {},
   "source": [
    "Due to lack of time, we didn't perform evaluation of our recommender. Here one could start with classification metrics, e.g Precision@k (fraction of top k recommended items that are relevant to the user), Recall@k (fraction of top k recommended items that are in a set of items relevant to the user). However as for any other task, metrics should be selected based on business objective."
   ]
  },
  {
   "cell_type": "markdown",
   "id": "230ca229-1765-40ba-b480-9ad4919b69e9",
   "metadata": {},
   "source": [
    "## Next Steps"
   ]
  },
  {
   "cell_type": "markdown",
   "id": "dcc2922e-1e41-4b5d-8a9f-d2114251e998",
   "metadata": {},
   "source": [
    "At the moment our model has several limitations:\n",
    "- listings without review are not included\n",
    "- it does not have ranking of suggestions"
   ]
  }
 ],
 "metadata": {
  "kernelspec": {
   "display_name": "Python 3 (ipykernel)",
   "language": "python",
   "name": "python3"
  },
  "language_info": {
   "codemirror_mode": {
    "name": "ipython",
    "version": 3
   },
   "file_extension": ".py",
   "mimetype": "text/x-python",
   "name": "python",
   "nbconvert_exporter": "python",
   "pygments_lexer": "ipython3",
   "version": "3.10.11"
  }
 },
 "nbformat": 4,
 "nbformat_minor": 5
}
